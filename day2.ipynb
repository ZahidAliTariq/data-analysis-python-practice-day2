{
 "cells": [
  {
   "cell_type": "code",
   "execution_count": 22,
   "id": "6a0d09e0",
   "metadata": {},
   "outputs": [],
   "source": [
    "import pandas as pd\n",
    "import matplotlib.pyplot as plt"
   ]
  },
  {
   "cell_type": "code",
   "execution_count": 23,
   "metadata": {},
   "outputs": [
    {
     "data": {
      "text/html": [
       "<div>\n",
       "<style scoped>\n",
       "    .dataframe tbody tr th:only-of-type {\n",
       "        vertical-align: middle;\n",
       "    }\n",
       "\n",
       "    .dataframe tbody tr th {\n",
       "        vertical-align: top;\n",
       "    }\n",
       "\n",
       "    .dataframe thead th {\n",
       "        text-align: right;\n",
       "    }\n",
       "</style>\n",
       "<table border=\"1\" class=\"dataframe\">\n",
       "  <thead>\n",
       "    <tr style=\"text-align: right;\">\n",
       "      <th></th>\n",
       "      <th>Order ID</th>\n",
       "      <th>Customer Name</th>\n",
       "      <th>Product</th>\n",
       "      <th>Category</th>\n",
       "      <th>Quantity</th>\n",
       "      <th>Price per Unit</th>\n",
       "      <th>Order Date</th>\n",
       "      <th>Total</th>\n",
       "    </tr>\n",
       "  </thead>\n",
       "  <tbody>\n",
       "    <tr>\n",
       "      <th>0</th>\n",
       "      <td>101</td>\n",
       "      <td>Ali</td>\n",
       "      <td>Shoes</td>\n",
       "      <td>Footwear</td>\n",
       "      <td>1</td>\n",
       "      <td>2000</td>\n",
       "      <td>2025-01-10</td>\n",
       "      <td>2000</td>\n",
       "    </tr>\n",
       "    <tr>\n",
       "      <th>1</th>\n",
       "      <td>102</td>\n",
       "      <td>Sara</td>\n",
       "      <td>Watch</td>\n",
       "      <td>Accessories</td>\n",
       "      <td>2</td>\n",
       "      <td>1500</td>\n",
       "      <td>2025-01-11</td>\n",
       "      <td>3000</td>\n",
       "    </tr>\n",
       "    <tr>\n",
       "      <th>2</th>\n",
       "      <td>103</td>\n",
       "      <td>Ahmed</td>\n",
       "      <td>Bag</td>\n",
       "      <td>Bags</td>\n",
       "      <td>1</td>\n",
       "      <td>1200</td>\n",
       "      <td>2025-01-11</td>\n",
       "      <td>1200</td>\n",
       "    </tr>\n",
       "    <tr>\n",
       "      <th>3</th>\n",
       "      <td>104</td>\n",
       "      <td>Zara</td>\n",
       "      <td>Shoes</td>\n",
       "      <td>Footwear</td>\n",
       "      <td>2</td>\n",
       "      <td>2000</td>\n",
       "      <td>2025-01-12</td>\n",
       "      <td>4000</td>\n",
       "    </tr>\n",
       "    <tr>\n",
       "      <th>4</th>\n",
       "      <td>105</td>\n",
       "      <td>Bilal</td>\n",
       "      <td>Watch</td>\n",
       "      <td>Accessories</td>\n",
       "      <td>1</td>\n",
       "      <td>1500</td>\n",
       "      <td>2025-01-12</td>\n",
       "      <td>1500</td>\n",
       "    </tr>\n",
       "    <tr>\n",
       "      <th>5</th>\n",
       "      <td>106</td>\n",
       "      <td>Tariq</td>\n",
       "      <td>Bag</td>\n",
       "      <td>Bags</td>\n",
       "      <td>3</td>\n",
       "      <td>1200</td>\n",
       "      <td>2025-01-13</td>\n",
       "      <td>3600</td>\n",
       "    </tr>\n",
       "  </tbody>\n",
       "</table>\n",
       "</div>"
      ],
      "text/plain": [
       "   Order ID Customer Name Product     Category  Quantity  Price per Unit  \\\n",
       "0       101           Ali   Shoes     Footwear         1            2000   \n",
       "1       102          Sara   Watch  Accessories         2            1500   \n",
       "2       103         Ahmed     Bag         Bags         1            1200   \n",
       "3       104          Zara   Shoes     Footwear         2            2000   \n",
       "4       105         Bilal   Watch  Accessories         1            1500   \n",
       "5       106         Tariq     Bag         Bags         3            1200   \n",
       "\n",
       "   Order Date  Total  \n",
       "0  2025-01-10   2000  \n",
       "1  2025-01-11   3000  \n",
       "2  2025-01-11   1200  \n",
       "3  2025-01-12   4000  \n",
       "4  2025-01-12   1500  \n",
       "5  2025-01-13   3600  "
      ]
     },
     "execution_count": 23,
     "metadata": {},
     "output_type": "execute_result"
    }
   ],
   "source": [
    "df = pd.read_csv(\"ecommerce_data_sample.csv\")\n",
    "df"
   ]
  },
  {
   "cell_type": "code",
   "execution_count": 24,
   "id": "8f19975d",
   "metadata": {},
   "outputs": [
    {
     "data": {
      "text/plain": [
       "Product\n",
       "Bag      4\n",
       "Shoes    3\n",
       "Watch    3\n",
       "Name: Quantity, dtype: int64"
      ]
     },
     "execution_count": 24,
     "metadata": {},
     "output_type": "execute_result"
    }
   ],
   "source": [
    "df.groupby(\"Product\")[\"Quantity\"].sum()"
   ]
  },
  {
   "cell_type": "code",
   "execution_count": 25,
   "id": "668e1201",
   "metadata": {},
   "outputs": [
    {
     "data": {
      "text/html": [
       "<div>\n",
       "<style scoped>\n",
       "    .dataframe tbody tr th:only-of-type {\n",
       "        vertical-align: middle;\n",
       "    }\n",
       "\n",
       "    .dataframe tbody tr th {\n",
       "        vertical-align: top;\n",
       "    }\n",
       "\n",
       "    .dataframe thead th {\n",
       "        text-align: right;\n",
       "    }\n",
       "</style>\n",
       "<table border=\"1\" class=\"dataframe\">\n",
       "  <thead>\n",
       "    <tr style=\"text-align: right;\">\n",
       "      <th></th>\n",
       "      <th>Order ID</th>\n",
       "      <th>Customer Name</th>\n",
       "      <th>Product</th>\n",
       "      <th>Category</th>\n",
       "      <th>Quantity</th>\n",
       "      <th>Price per Unit</th>\n",
       "      <th>Order Date</th>\n",
       "      <th>Total</th>\n",
       "    </tr>\n",
       "  </thead>\n",
       "  <tbody>\n",
       "    <tr>\n",
       "      <th>0</th>\n",
       "      <td>101</td>\n",
       "      <td>Ali</td>\n",
       "      <td>Shoes</td>\n",
       "      <td>Footwear</td>\n",
       "      <td>1</td>\n",
       "      <td>2000</td>\n",
       "      <td>2025-01-10</td>\n",
       "      <td>2000</td>\n",
       "    </tr>\n",
       "    <tr>\n",
       "      <th>1</th>\n",
       "      <td>102</td>\n",
       "      <td>Sara</td>\n",
       "      <td>Watch</td>\n",
       "      <td>Accessories</td>\n",
       "      <td>2</td>\n",
       "      <td>1500</td>\n",
       "      <td>2025-01-11</td>\n",
       "      <td>3000</td>\n",
       "    </tr>\n",
       "    <tr>\n",
       "      <th>2</th>\n",
       "      <td>103</td>\n",
       "      <td>Ahmed</td>\n",
       "      <td>Bag</td>\n",
       "      <td>Bags</td>\n",
       "      <td>1</td>\n",
       "      <td>1200</td>\n",
       "      <td>2025-01-11</td>\n",
       "      <td>1200</td>\n",
       "    </tr>\n",
       "    <tr>\n",
       "      <th>3</th>\n",
       "      <td>104</td>\n",
       "      <td>Zara</td>\n",
       "      <td>Shoes</td>\n",
       "      <td>Footwear</td>\n",
       "      <td>2</td>\n",
       "      <td>2000</td>\n",
       "      <td>2025-01-12</td>\n",
       "      <td>4000</td>\n",
       "    </tr>\n",
       "    <tr>\n",
       "      <th>4</th>\n",
       "      <td>105</td>\n",
       "      <td>Bilal</td>\n",
       "      <td>Watch</td>\n",
       "      <td>Accessories</td>\n",
       "      <td>1</td>\n",
       "      <td>1500</td>\n",
       "      <td>2025-01-12</td>\n",
       "      <td>1500</td>\n",
       "    </tr>\n",
       "    <tr>\n",
       "      <th>5</th>\n",
       "      <td>106</td>\n",
       "      <td>Tariq</td>\n",
       "      <td>Bag</td>\n",
       "      <td>Bags</td>\n",
       "      <td>3</td>\n",
       "      <td>1200</td>\n",
       "      <td>2025-01-13</td>\n",
       "      <td>3600</td>\n",
       "    </tr>\n",
       "  </tbody>\n",
       "</table>\n",
       "</div>"
      ],
      "text/plain": [
       "   Order ID Customer Name Product     Category  Quantity  Price per Unit  \\\n",
       "0       101           Ali   Shoes     Footwear         1            2000   \n",
       "1       102          Sara   Watch  Accessories         2            1500   \n",
       "2       103         Ahmed     Bag         Bags         1            1200   \n",
       "3       104          Zara   Shoes     Footwear         2            2000   \n",
       "4       105         Bilal   Watch  Accessories         1            1500   \n",
       "5       106         Tariq     Bag         Bags         3            1200   \n",
       "\n",
       "   Order Date  Total  \n",
       "0  2025-01-10   2000  \n",
       "1  2025-01-11   3000  \n",
       "2  2025-01-11   1200  \n",
       "3  2025-01-12   4000  \n",
       "4  2025-01-12   1500  \n",
       "5  2025-01-13   3600  "
      ]
     },
     "execution_count": 25,
     "metadata": {},
     "output_type": "execute_result"
    }
   ],
   "source": [
    "df"
   ]
  },
  {
   "cell_type": "code",
   "execution_count": 26,
   "id": "cc32a53f",
   "metadata": {},
   "outputs": [
    {
     "data": {
      "text/html": [
       "<div>\n",
       "<style scoped>\n",
       "    .dataframe tbody tr th:only-of-type {\n",
       "        vertical-align: middle;\n",
       "    }\n",
       "\n",
       "    .dataframe tbody tr th {\n",
       "        vertical-align: top;\n",
       "    }\n",
       "\n",
       "    .dataframe thead th {\n",
       "        text-align: right;\n",
       "    }\n",
       "</style>\n",
       "<table border=\"1\" class=\"dataframe\">\n",
       "  <thead>\n",
       "    <tr style=\"text-align: right;\">\n",
       "      <th></th>\n",
       "      <th>Order ID</th>\n",
       "      <th>Customer Name</th>\n",
       "      <th>Product</th>\n",
       "      <th>Category</th>\n",
       "      <th>Quantity</th>\n",
       "      <th>Price per Unit</th>\n",
       "      <th>Order Date</th>\n",
       "      <th>Total</th>\n",
       "      <th>City</th>\n",
       "    </tr>\n",
       "  </thead>\n",
       "  <tbody>\n",
       "    <tr>\n",
       "      <th>0</th>\n",
       "      <td>101</td>\n",
       "      <td>Ali</td>\n",
       "      <td>Shoes</td>\n",
       "      <td>Footwear</td>\n",
       "      <td>1</td>\n",
       "      <td>2000</td>\n",
       "      <td>2025-01-10</td>\n",
       "      <td>2000</td>\n",
       "      <td>Lahore</td>\n",
       "    </tr>\n",
       "    <tr>\n",
       "      <th>1</th>\n",
       "      <td>102</td>\n",
       "      <td>Sara</td>\n",
       "      <td>Watch</td>\n",
       "      <td>Accessories</td>\n",
       "      <td>2</td>\n",
       "      <td>1500</td>\n",
       "      <td>2025-01-11</td>\n",
       "      <td>3000</td>\n",
       "      <td>Faslabad</td>\n",
       "    </tr>\n",
       "    <tr>\n",
       "      <th>2</th>\n",
       "      <td>103</td>\n",
       "      <td>Ahmed</td>\n",
       "      <td>Bag</td>\n",
       "      <td>Bags</td>\n",
       "      <td>1</td>\n",
       "      <td>1200</td>\n",
       "      <td>2025-01-11</td>\n",
       "      <td>1200</td>\n",
       "      <td>Multan</td>\n",
       "    </tr>\n",
       "    <tr>\n",
       "      <th>3</th>\n",
       "      <td>104</td>\n",
       "      <td>Zara</td>\n",
       "      <td>Shoes</td>\n",
       "      <td>Footwear</td>\n",
       "      <td>2</td>\n",
       "      <td>2000</td>\n",
       "      <td>2025-01-12</td>\n",
       "      <td>4000</td>\n",
       "      <td>Sahiwal</td>\n",
       "    </tr>\n",
       "    <tr>\n",
       "      <th>4</th>\n",
       "      <td>105</td>\n",
       "      <td>Bilal</td>\n",
       "      <td>Watch</td>\n",
       "      <td>Accessories</td>\n",
       "      <td>1</td>\n",
       "      <td>1500</td>\n",
       "      <td>2025-01-12</td>\n",
       "      <td>1500</td>\n",
       "      <td>Chichawatni</td>\n",
       "    </tr>\n",
       "    <tr>\n",
       "      <th>5</th>\n",
       "      <td>106</td>\n",
       "      <td>Tariq</td>\n",
       "      <td>Bag</td>\n",
       "      <td>Bags</td>\n",
       "      <td>3</td>\n",
       "      <td>1200</td>\n",
       "      <td>2025-01-13</td>\n",
       "      <td>3600</td>\n",
       "      <td>Islamabad</td>\n",
       "    </tr>\n",
       "  </tbody>\n",
       "</table>\n",
       "</div>"
      ],
      "text/plain": [
       "   Order ID Customer Name Product     Category  Quantity  Price per Unit  \\\n",
       "0       101           Ali   Shoes     Footwear         1            2000   \n",
       "1       102          Sara   Watch  Accessories         2            1500   \n",
       "2       103         Ahmed     Bag         Bags         1            1200   \n",
       "3       104          Zara   Shoes     Footwear         2            2000   \n",
       "4       105         Bilal   Watch  Accessories         1            1500   \n",
       "5       106         Tariq     Bag         Bags         3            1200   \n",
       "\n",
       "   Order Date  Total         City  \n",
       "0  2025-01-10   2000       Lahore  \n",
       "1  2025-01-11   3000     Faslabad  \n",
       "2  2025-01-11   1200       Multan  \n",
       "3  2025-01-12   4000      Sahiwal  \n",
       "4  2025-01-12   1500  Chichawatni  \n",
       "5  2025-01-13   3600    Islamabad  "
      ]
     },
     "execution_count": 26,
     "metadata": {},
     "output_type": "execute_result"
    }
   ],
   "source": [
    "df['City'] = ['Lahore', 'Faslabad', 'Multan', 'Sahiwal', 'Chichawatni', 'Islamabad']\n",
    "df"
   ]
  },
  {
   "cell_type": "code",
   "execution_count": 27,
   "id": "9e435194",
   "metadata": {},
   "outputs": [
    {
     "data": {
      "text/plain": [
       "'Sahiwal'"
      ]
     },
     "execution_count": 27,
     "metadata": {},
     "output_type": "execute_result"
    }
   ],
   "source": [
    "df.groupby(\"City\")[\"Total\"].sum().idxmax()"
   ]
  },
  {
   "cell_type": "code",
   "execution_count": 28,
   "id": "5d7e045f",
   "metadata": {},
   "outputs": [
    {
     "data": {
      "text/plain": [
       "Order Date\n",
       "2025-01-10    2000\n",
       "2025-01-11    4200\n",
       "2025-01-12    5500\n",
       "2025-01-13    3600\n",
       "Name: Total, dtype: int64"
      ]
     },
     "execution_count": 28,
     "metadata": {},
     "output_type": "execute_result"
    }
   ],
   "source": [
    "df.groupby(\"Order Date\")[\"Total\"].sum()"
   ]
  },
  {
   "cell_type": "code",
   "execution_count": 29,
   "id": "5b1fd3d6",
   "metadata": {},
   "outputs": [
    {
     "data": {
      "text/plain": [
       "0    2000\n",
       "1    3000\n",
       "2    1200\n",
       "3    4000\n",
       "4    1500\n",
       "5    3600\n",
       "Name: Revenue, dtype: int64"
      ]
     },
     "execution_count": 29,
     "metadata": {},
     "output_type": "execute_result"
    }
   ],
   "source": [
    "df[\"Revenue\"] = df[\"Quantity\"] * df[\"Price per Unit\"]\n",
    "df[\"Revenue\"]"
   ]
  },
  {
   "cell_type": "code",
   "execution_count": 30,
   "id": "2e6918a7",
   "metadata": {},
   "outputs": [
    {
     "data": {
      "image/png": "[encoded data removed]",
      "text/plain": [
       "<Figure size 640x480 with 1 Axes>"
      ]
     },
     "metadata": {},
     "output_type": "display_data"
    }
   ],
   "source": [
    "df.groupby(\"Product\")[\"Total\"].sum().plot(kind=\"bar\")\n",
    "plt.title(\"Product vs Total Sales\")\n",
    "plt.ylabel(\"Sales\")\n",
    "plt.show()"
   ]
  }
 ],
 "metadata": {
  "kernelspec": {
   "display_name": "Python 3",
   "language": "python",
   "name": "python3"
  },
  "language_info": {
   "codemirror_mode": {
    "name": "ipython",
    "version": 3
   },
   "file_extension": ".py",
   "mimetype": "text/x-python",
   "name": "python",
   "nbconvert_exporter": "python",
   "pygments_lexer": "ipython3",
   "version": "3.13.2"
  }
 },
 "nbformat": 4,
 "nbformat_minor": 5
}
